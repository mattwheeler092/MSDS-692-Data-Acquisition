{
 "cells": [
  {
   "cell_type": "code",
   "execution_count": 3,
   "metadata": {},
   "outputs": [],
   "source": [
    "with open('data/t.csv') as file:\n",
    "    data = file.read().strip()\n",
    "\n",
    "headers, *data = [line.split(',') for line in data.split('\\n')]"
   ]
  },
  {
   "cell_type": "code",
   "execution_count": 51,
   "metadata": {},
   "outputs": [
    {
     "name": "stdout",
     "output_type": "stream",
     "text": [
      "<html>\n",
      "<body>\n",
      "<table>\n",
      "<tr><th>when</th><th>a</th><th>b</th></tr>\n",
      "<tr><td>2016-08-12</td><td>1.2</td><td>3</td></tr>\n",
      "<tr><td>2016-08-13</td><td>3.99003</td><td>4.3</td></tr>\n",
      "</table>\n",
      "</body>\n",
      "</html>\n"
     ]
    }
   ],
   "source": [
    "add_tag = lambda data, tag: f\"<{tag}>{data}</{tag}>\"\n",
    "add_data = lambda data, tag: ''.join([add_tag(d, tag) for d in data])\n",
    "create_line = lambda data, tag: f\"<tr>{add_data(data, tag)}</tr>\\n\"\n",
    "\n",
    "html = \"<html>\\n<body>\\n<table>\\n\"\n",
    "html += create_line(headers, 'th')\n",
    "for line in data:\n",
    "    html += create_line(line, 'td')\n",
    "html += \"</table>\\n</body>\\n</html>\"\n",
    "\n",
    "print(html)"
   ]
  },
  {
   "cell_type": "code",
   "execution_count": 4,
   "metadata": {},
   "outputs": [
    {
     "name": "stdout",
     "output_type": "stream",
     "text": [
      "<?xml version=\"1.0\"?>\n",
      "<file>\n",
      "\t<headers>when,a,b</headers>\n",
      "\t<data>\n",
      "\t\t<record>\n",
      "\t\t\t<when>2016-08-12</when><a>1.2</a><b>3</b>\n",
      "\t\t</record>\n",
      "\t\t<record>\n",
      "\t\t\t<when>2016-08-13</when><a>3.99003</a><b>4.3</b>\n",
      "\t\t</record>\n",
      "\t</data>\n",
      "</file>\n"
     ]
    }
   ],
   "source": [
    "check_header = lambda header: header.replace(' ', '_')\n",
    "xml_data = lambda data, header: f\"<{header}>{data}</{header}>\"\n",
    "xml_line = lambda line: ''.join(xml_data(data, header) for data, header in line)\n",
    "\n",
    "xml = '<?xml version=\"1.0\"?>\\n<file>\\n'\n",
    "xml += f\"\\t<headers>{','.join(headers)}</headers>\\n\"\n",
    "xml += f\"\\t<data>\\n\"\n",
    "for record in data:\n",
    "    xml += f\"\\t\\t<record>\\n\"\n",
    "    headers = [check_header(header) for header in headers]\n",
    "    xml += f\"\\t\\t\\t{xml_line(zip(record, headers))}\\n\"\n",
    "    xml += f\"\\t\\t</record>\\n\"\n",
    "xml += f\"\\t</data>\\n</file>\"\n",
    "\n",
    "print(xml)"
   ]
  },
  {
   "cell_type": "code",
   "execution_count": 77,
   "metadata": {},
   "outputs": [
    {
     "name": "stdout",
     "output_type": "stream",
     "text": [
      "{\n",
      "\t\"headers\":[\"when\", \"a\", \"b\"],\n",
      "\t\"data\":[\n",
      "\t\t{\n",
      "\t\t\t\"when\":\"2016-08-12\", \"a\":\"1.2\", \"b\":\"3\"\n",
      "\t\t},\n",
      "\t\t{\n",
      "\t\t\t\"when\":\"2016-08-13\", \"a\":\"3.99003\", \"b\":\"4.3\"\n",
      "\t\t}\n",
      "\t]\n",
      "}\n"
     ]
    }
   ],
   "source": [
    "json_data = lambda data, header: f'\"{header}\":\"{data}\"'\n",
    "json_line = lambda line: ', '.join(json_data(data, header) for data, header in line)\n",
    "\n",
    "json = \"{\\n\"\n",
    "header_str = '\", \"'.join(headers)\n",
    "json += f'\\t\"headers\":[\"{header_str}\"],\\n'\n",
    "json += '\\t\"data\":[\\n'\n",
    "for i, record in enumerate(data):\n",
    "    json += \"\\t\\t{\\n\"\n",
    "    json += f\"\\t\\t\\t{json_line(zip(record, headers))}\\n\"\n",
    "    json += \"\\t\\t}\"\n",
    "    if i != len(data) - 1:\n",
    "        json += \",\\n\"\n",
    "    else:\n",
    "        json += \"\\n\"\n",
    "json += \"\\t]\\n}\"\n",
    "\n",
    "print(json)"
   ]
  },
  {
   "cell_type": "code",
   "execution_count": 8,
   "metadata": {},
   "outputs": [],
   "source": [
    "import untangle\n",
    "\n",
    "with open('output/t.xml','r') as file:\n",
    "    xmltxt = file.read()\n",
    "\n",
    "xmldata = untangle.parse(xmltxt)"
   ]
  },
  {
   "cell_type": "code",
   "execution_count": 9,
   "metadata": {},
   "outputs": [
    {
     "name": "stdout",
     "output_type": "stream",
     "text": [
      "when,a,b\n",
      "2016-08-12,1.2,3\n",
      "2016-08-13,3.99003,4.3\n",
      "\n"
     ]
    }
   ],
   "source": [
    "xmldata = untangle.parse(xmltxt)\n",
    "\n",
    "headers = xmldata.file.headers.cdata.split(',')\n",
    "data = {header : [] for header in headers}\n",
    "for record in xmldata.file.data.record:\n",
    "    for element in record.children:\n",
    "        name = element._name.replace('_', \" \")\n",
    "        data[name].append(element.cdata)\n",
    "data = list(map(list, zip(*data.values())))\n",
    "\n",
    "add_line = lambda line: ','.join(line) + '\\n'\n",
    "\n",
    "csv = add_line(headers)\n",
    "for line in data:\n",
    "    csv += add_line(line)\n",
    "\n",
    "print(csv)"
   ]
  },
  {
   "cell_type": "code",
   "execution_count": 130,
   "metadata": {},
   "outputs": [],
   "source": [
    "import json\n",
    "\n",
    "with open('temp.json','r') as file:\n",
    "    jsontxt = file.read()\n",
    "\n",
    "data = json.loads(jsontxt)"
   ]
  },
  {
   "cell_type": "code",
   "execution_count": 138,
   "metadata": {},
   "outputs": [
    {
     "name": "stdout",
     "output_type": "stream",
     "text": [
      "when,a,b\n",
      "2016-08-12,1.2,3\n",
      "2016-08-13,3.99003,4.3\n",
      "\n"
     ]
    }
   ],
   "source": [
    "headers = data['headers']\n",
    "data = [list(record.values()) for record in data['data']]\n",
    "\n",
    "add_line = lambda line: ','.join(line) + '\\n'\n",
    "\n",
    "csv = add_line(headers)\n",
    "for line in data:\n",
    "    csv += add_line(line)\n",
    "\n",
    "print(csv)"
   ]
  },
  {
   "cell_type": "code",
   "execution_count": null,
   "metadata": {},
   "outputs": [],
   "source": []
  }
 ],
 "metadata": {
  "kernelspec": {
   "display_name": "Python 3.9.7 ('base')",
   "language": "python",
   "name": "python3"
  },
  "language_info": {
   "codemirror_mode": {
    "name": "ipython",
    "version": 3
   },
   "file_extension": ".py",
   "mimetype": "text/x-python",
   "name": "python",
   "nbconvert_exporter": "python",
   "pygments_lexer": "ipython3",
   "version": "3.9.7"
  },
  "orig_nbformat": 4,
  "vscode": {
   "interpreter": {
    "hash": "40d3a090f54c6569ab1632332b64b2c03c39dcf918b08424e98f38b5ae0af88f"
   }
  }
 },
 "nbformat": 4,
 "nbformat_minor": 2
}
