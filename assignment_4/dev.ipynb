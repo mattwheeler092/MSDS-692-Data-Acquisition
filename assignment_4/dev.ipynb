{
 "cells": [
  {
   "cell_type": "code",
   "execution_count": 26,
   "metadata": {},
   "outputs": [],
   "source": [
    "import numpy as np\n",
    "import pandas as pd\n",
    "import re\n",
    "import string"
   ]
  },
  {
   "cell_type": "code",
   "execution_count": 25,
   "metadata": {},
   "outputs": [],
   "source": [
    "ENGLISH_STOP_WORDS = frozenset([\n",
    "    \"a\", \"about\", \"above\", \"across\", \"after\", \"afterwards\", \"again\", \"against\",\n",
    "    \"all\", \"almost\", \"alone\", \"along\", \"already\", \"also\", \"although\", \"always\",\n",
    "    \"am\", \"among\", \"amongst\", \"amoungst\", \"amount\", \"an\", \"and\", \"another\",\n",
    "    \"any\", \"anyhow\", \"anyone\", \"anything\", \"anyway\", \"anywhere\", \"are\",\n",
    "    \"around\", \"as\", \"at\", \"back\", \"be\", \"became\", \"because\", \"become\",\n",
    "    \"becomes\", \"becoming\", \"been\", \"before\", \"beforehand\", \"behind\", \"being\",\n",
    "    \"below\", \"beside\", \"besides\", \"between\", \"beyond\", \"bill\", \"both\",\n",
    "    \"bottom\", \"but\", \"by\", \"call\", \"can\", \"cannot\", \"cant\", \"co\", \"con\",\n",
    "    \"could\", \"couldnt\", \"cry\", \"de\", \"describe\", \"detail\", \"do\", \"done\",\n",
    "    \"down\", \"due\", \"during\", \"each\", \"eg\", \"eight\", \"either\", \"eleven\", \"else\",\n",
    "    \"elsewhere\", \"empty\", \"enough\", \"etc\", \"even\", \"ever\", \"every\", \"everyone\",\n",
    "    \"everything\", \"everywhere\", \"except\", \"few\", \"fifteen\", \"fifty\", \"fill\",\n",
    "    \"find\", \"fire\", \"first\", \"five\", \"for\", \"former\", \"formerly\", \"forty\",\n",
    "    \"found\", \"four\", \"from\", \"front\", \"full\", \"further\", \"get\", \"give\", \"go\",\n",
    "    \"had\", \"has\", \"hasnt\", \"have\", \"he\", \"hence\", \"her\", \"here\", \"hereafter\",\n",
    "    \"hereby\", \"herein\", \"hereupon\", \"hers\", \"herself\", \"him\", \"himself\", \"his\",\n",
    "    \"how\", \"however\", \"hundred\", \"i\", \"ie\", \"if\", \"in\", \"inc\", \"indeed\",\n",
    "    \"interest\", \"into\", \"is\", \"it\", \"its\", \"itself\", \"keep\", \"last\", \"latter\",\n",
    "    \"latterly\", \"least\", \"less\", \"ltd\", \"made\", \"many\", \"may\", \"me\",\n",
    "    \"meanwhile\", \"might\", \"mill\", \"mine\", \"more\", \"moreover\", \"most\", \"mostly\",\n",
    "    \"move\", \"much\", \"must\", \"my\", \"myself\", \"name\", \"namely\", \"neither\",\n",
    "    \"never\", \"nevertheless\", \"next\", \"nine\", \"no\", \"nobody\", \"none\", \"noone\",\n",
    "    \"nor\", \"not\", \"nothing\", \"now\", \"nowhere\", \"of\", \"off\", \"often\", \"on\",\n",
    "    \"once\", \"one\", \"only\", \"onto\", \"or\", \"other\", \"others\", \"otherwise\", \"our\",\n",
    "    \"ours\", \"ourselves\", \"out\", \"over\", \"own\", \"part\", \"per\", \"perhaps\",\n",
    "    \"please\", \"put\", \"rather\", \"re\", \"same\", \"see\", \"seem\", \"seemed\",\n",
    "    \"seeming\", \"seems\", \"serious\", \"several\", \"she\", \"should\", \"show\", \"side\",\n",
    "    \"since\", \"sincere\", \"six\", \"sixty\", \"so\", \"some\", \"somehow\", \"someone\",\n",
    "    \"something\", \"sometime\", \"sometimes\", \"somewhere\", \"still\", \"such\",\n",
    "    \"system\", \"take\", \"ten\", \"than\", \"that\", \"the\", \"their\", \"them\",\n",
    "    \"themselves\", \"then\", \"thence\", \"there\", \"thereafter\", \"thereby\",\n",
    "    \"therefore\", \"therein\", \"thereupon\", \"these\", \"they\", \"thick\", \"thin\",\n",
    "    \"third\", \"this\", \"those\", \"though\", \"three\", \"through\", \"throughout\",\n",
    "    \"thru\", \"thus\", \"to\", \"together\", \"too\", \"top\", \"toward\", \"towards\",\n",
    "    \"twelve\", \"twenty\", \"two\", \"un\", \"under\", \"until\", \"up\", \"upon\", \"us\",\n",
    "    \"very\", \"via\", \"was\", \"we\", \"well\", \"were\", \"what\", \"whatever\", \"when\",\n",
    "    \"whence\", \"whenever\", \"where\", \"whereafter\", \"whereas\", \"whereby\",\n",
    "    \"wherein\", \"whereupon\", \"wherever\", \"whether\", \"which\", \"while\", \"whither\",\n",
    "    \"who\", \"whoever\", \"whole\", \"whom\", \"whose\", \"why\", \"will\", \"with\",\n",
    "    \"within\", \"without\", \"would\", \"yet\", \"you\", \"your\", \"yours\", \"yourself\",\n",
    "    \"yourselves\"])\n"
   ]
  },
  {
   "cell_type": "code",
   "execution_count": 21,
   "metadata": {},
   "outputs": [],
   "source": [
    "gloves = {}\n",
    "with open('data/glove.6B.300d.txt') as file:\n",
    "    for line in file.readlines():\n",
    "        elem = line.split()\n",
    "        gloves[elem[0]] = np.array([float(val) for val in elem[1:]])"
   ]
  },
  {
   "cell_type": "code",
   "execution_count": 111,
   "metadata": {},
   "outputs": [],
   "source": [
    "def words(text):\n",
    "    \"\"\"\n",
    "    Given a string, return a list of words normalized as follows.\n",
    "    Split the string to make words first by using regex compile() function\n",
    "    and string.punctuation + '0-9\\\\r\\\\t\\\\n]' to replace all those\n",
    "    char with a space character.\n",
    "    Split on space to get word list.\n",
    "    Ignore words < 3 char long.\n",
    "    Lowercase all words\n",
    "    Remove English stop words\n",
    "    \"\"\"\n",
    "    regex = \"[\" + string.punctuation + \"0-9\\\\r\\\\t\\\\n]\"\n",
    "    text = re.sub(regex, \" \", text.lower())\n",
    "    words = [w for w in text.split() if len(w) > 2]  \n",
    "    return [w for w in words if w not in ENGLISH_STOP_WORDS]"
   ]
  },
  {
   "cell_type": "code",
   "execution_count": null,
   "metadata": {},
   "outputs": [],
   "source": [
    "# [filename, title, article-text-minus-title, wordvec-centroid-for-article-text]"
   ]
  },
  {
   "cell_type": "code",
   "execution_count": 119,
   "metadata": {},
   "outputs": [],
   "source": [
    "from doc2vec import get_text, filelist\n",
    "\n",
    "def load_articles(articles_dirname, gloves):\n",
    "    article_info = []\n",
    "    for file in filelist(articles_dirname):\n",
    "        title, *text = get_text(file).split('\\n')\n",
    "        text = '\\n'.join(text[1:-1])\n",
    "        word_vecs = np.array([gloves[word] for word in words(text) if word in gloves])\n",
    "        centroid = np.mean(word_vecs, axis=0)\n",
    "        article_info.append((file, title, text, centroid))\n",
    "    return article_info"
   ]
  },
  {
   "cell_type": "code",
   "execution_count": 128,
   "metadata": {},
   "outputs": [],
   "source": [
    "test = load_articles('data/bbc/sport', gloves)"
   ]
  },
  {
   "cell_type": "code",
   "execution_count": 129,
   "metadata": {},
   "outputs": [
    {
     "data": {
      "text/plain": [
       "511"
      ]
     },
     "execution_count": 129,
     "metadata": {},
     "output_type": "execute_result"
    }
   ],
   "source": [
    "len(test)"
   ]
  },
  {
   "cell_type": "code",
   "execution_count": 130,
   "metadata": {},
   "outputs": [],
   "source": [
    "articles_dirname = 'data/bbc/tech'\n",
    "\n",
    "article_info = []\n",
    "for file in filelist(articles_dirname):\n",
    "    title, *text = get_text(file).split('\\n')\n",
    "    text = '\\n'.join(text[1:-1])\n",
    "    word_vecs = [gloves[word] for word in words(text) if word in gloves]\n",
    "    centroid = np.mean(word_vecs, axis=0)\n",
    "    article_info.append((file, title, text, centroid))\n",
    "    break"
   ]
  },
  {
   "cell_type": "code",
   "execution_count": 131,
   "metadata": {},
   "outputs": [
    {
     "data": {
      "text/plain": [
       "[('data/bbc/tech/289.txt',\n",
       "  'Mobiles rack up 20 years of use',\n",
       "  'Mobile phones in the UK are celebrating their 20th anniversary this weekend.\\n\\nBritain\\'s first mobile phone call was made across the Vodafone network on 1 January 1985 by veteran comedian Ernie Wise. In the 20 years since that day, mobile phones have become an integral part of modern life and now almost 90% of Britons own a handset. Mobiles have become so popular that many people use their handset as their only phone and rarely use a landline.\\n\\nThe first ever call over a portable phone was made in 1973 in New York but it took 10 years for the first commercial mobile service to be launched. The UK was not far behind the rest of the world in setting up networks in 1985 that let people make calls while they walked. The first call was made from St Katherine\\'s dock to Vodafone\\'s head office in Newbury which at the time was over a curry house. For the first nine days of 1985 Vodafone was the only firm with a mobile network in the UK. Then on 10 January Cellnet (now O2) launched its service. Mike Caudwell, spokesman for Vodafone, said that when phones were launched they were the size of a briefcase, cost about Â£2,000 and had a battery life of little more than 20 minutes.\\n\\n\"Despite that they were hugely popular in the mid-80s,\" he said. \"They became a yuppy must-have and a status symbol among young wealthy business folk.\" This was also despite the fact that the phones used analogue radio signals to communicate which made them very easy to eavesdrop on. He said it took Vodafone almost nine years to rack up its first million customers but only 18 months to get the second million. \"It\\'s very easy to forget that in 1983 when we put the bid document in we were forecasting that the total market would be two million people,\" he said. \"Cellnet was forecasting half that.\" Now Vodafone has 14m customers in the UK alone. Cellnet and Vodafone were the only mobile phone operators in the UK until 1993 when One2One (now T-Mobile) was launched. Orange had its UK launch in 1994. Both newcomers operated digital mobile networks and now all operators use this technology. The analogue spectrum for the old phones has been retired. Called Global System for Mobiles (GSM) this is now the most widely used phone technology on the planet and is used to help more than 1.2 billion people make calls. Mr Caudwell said the advent of digital technology also helped to introduce all those things, such as text messaging and roaming that have made mobiles so popular.',\n",
       "  array([-2.17052736e-01,  2.13238193e-02,  4.12841608e-02, -5.49252149e-02,\n",
       "         -2.06492707e-02, -2.19353983e-02, -6.23167564e-02,  1.66319481e-02,\n",
       "          1.42686775e-02, -1.18878587e+00,  1.96944782e-01, -2.24932238e-02,\n",
       "          6.87683591e-02, -4.98113790e-02,  1.73386023e-01, -2.78329711e-02,\n",
       "         -1.87678534e-01, -5.32319823e-02, -3.79593857e-02, -1.27633740e-01,\n",
       "          1.62579934e-01, -2.76356514e-02,  1.15903346e-01,  7.61799414e-02,\n",
       "         -1.54904850e-01, -1.24505285e-01,  1.89032652e-02,  1.25007786e-01,\n",
       "          4.23690527e-02,  7.23164166e-02, -1.04231485e-01,  8.19365704e-02,\n",
       "         -1.57505201e-01,  1.67045526e-01, -6.29955219e-01, -3.37635066e-02,\n",
       "         -1.98876856e-02, -1.23460996e-01,  8.52861939e-02,  4.35180873e-02,\n",
       "          1.82789448e-03,  6.83142387e-03, -1.13271141e-01,  2.07510382e-01,\n",
       "          7.53962745e-02, -6.91323729e-02,  9.37258994e-02, -5.62243420e-02,\n",
       "         -7.68369061e-04, -8.81461518e-02,  8.02490147e-02, -1.33247278e-01,\n",
       "         -4.60540613e-02, -7.26624199e-02,  2.06475757e-02,  6.60075166e-02,\n",
       "         -6.23599825e-02,  1.91189473e-01, -1.07284208e-01, -7.90044707e-02,\n",
       "         -1.01738614e-01,  4.96707127e-03,  1.00654913e-01, -7.28757083e-02,\n",
       "          5.24976735e-02,  6.31136066e-02, -2.01277680e-03,  2.00391781e-01,\n",
       "         -8.41939387e-02, -4.05380928e-02, -8.72795077e-03,  1.57582427e-01,\n",
       "          5.38877011e-02,  9.80608094e-02,  1.28930789e-01,  6.66369282e-02,\n",
       "          5.56408276e-03, -2.16216716e-02, -1.08036770e-01,  1.04824657e-02,\n",
       "         -7.26690901e-02, -5.99701964e-02, -8.21526945e-03,  2.94225519e-02,\n",
       "          1.15604030e-01,  9.83537028e-02, -1.59051714e-01,  1.18664852e-01,\n",
       "          1.46870225e-01,  1.72119691e-02, -1.31506323e-01,  7.32517878e-02,\n",
       "         -9.46201475e-03,  4.95254674e-02,  9.10171320e-02, -6.47387558e-02,\n",
       "         -1.91179105e-01, -1.78962030e-02,  1.92780574e-01, -3.27487110e-01,\n",
       "         -5.14301040e-02, -1.53637537e-02, -5.24167881e-02, -1.03823250e-01,\n",
       "         -6.60508282e-02, -5.21824564e-02,  1.68270913e-01,  7.85711088e-02,\n",
       "         -2.74256269e-01,  5.11019309e-02, -2.96915796e-02, -1.41103191e-01,\n",
       "         -7.08602862e-02, -6.00736256e-02,  1.28868482e-01, -1.08945167e-01,\n",
       "         -1.34083762e-01,  5.06104359e-02,  5.51497061e-02, -8.16590334e-02,\n",
       "         -2.17066144e-02, -2.12179388e-01,  1.83475410e-01, -2.07838275e-01,\n",
       "         -9.81846229e-02, -7.30587343e-02,  5.56144751e-03,  1.69345169e-01,\n",
       "         -6.03235436e-02, -7.13584530e-03,  8.09496354e-03,  1.34836376e-01,\n",
       "         -1.42200326e-02,  8.06199564e-02,  2.59379832e-02, -5.90403199e-02,\n",
       "          2.28283037e-01, -8.75028331e-02,  7.56826983e-02,  1.68419343e-02,\n",
       "         -8.21972151e-02, -5.81416066e-02,  1.72639779e-01,  9.08426475e-02,\n",
       "         -2.08027920e-01,  5.49533635e-02, -5.39588243e-02,  3.74509425e-02,\n",
       "         -1.83378919e-02, -2.96619923e-02,  2.46898149e-01, -1.11131255e-01,\n",
       "          1.06818643e-01, -5.86445967e-02,  3.09022188e-02,  8.61605663e-02,\n",
       "         -9.17415793e-02,  7.75895028e-02, -5.07047259e-02, -1.70805365e-01,\n",
       "         -9.20400685e-02,  1.91573547e-02,  5.94984691e-02, -1.18193359e-02,\n",
       "         -7.80594696e-03,  8.39468315e-02,  9.67243707e-02,  3.56238619e-02,\n",
       "          5.54799448e-03,  1.44356170e-01, -1.94970486e-02,  1.43331348e-01,\n",
       "         -4.25352419e-01,  2.38156616e-01, -6.81322204e-02, -5.50432232e-02,\n",
       "         -2.89289054e-02, -1.91953818e-02, -1.76258315e-02,  1.88114869e-01,\n",
       "          9.19291359e-02,  7.35280751e-02,  1.45665200e-01,  2.91569097e-02,\n",
       "         -5.54506997e-02, -5.25991630e-02, -3.20604365e-03,  1.09513149e-01,\n",
       "         -9.05109747e-02, -1.57264434e-01,  4.68374762e-02,  1.23242209e-01,\n",
       "         -1.69613469e-02, -8.47549873e-02,  4.37575354e-02, -4.11671768e-02,\n",
       "         -1.88572620e-01,  3.63539526e-02, -5.69145177e-02, -1.05480769e-01,\n",
       "          5.24847138e-01, -3.31530271e-02,  4.74999873e-02,  1.13537334e-01,\n",
       "          6.11782635e-02, -2.41997723e-02, -8.49542066e-02,  1.29818357e-01,\n",
       "         -3.59519735e-02, -9.77969547e-02,  2.56932171e-02, -3.36482840e-02,\n",
       "          3.19109414e-02, -6.79267519e-02, -2.74285675e-02,  8.68171215e-02,\n",
       "         -1.30561873e-02,  2.10933914e-01, -1.16471270e-01,  1.19946294e-01,\n",
       "          1.94445571e-01,  5.98243326e-02, -1.25484349e-01, -2.56257599e-02,\n",
       "          1.63871593e-01,  9.05520315e-02,  4.64921083e-02, -2.14055392e-01,\n",
       "          1.00726459e-01,  3.21684017e-02, -1.32383138e-02,  5.96713790e-02,\n",
       "          1.40615287e-02,  5.32880972e-02,  7.64329735e-02, -1.02138282e-02,\n",
       "          6.17190193e-02,  9.91477360e-02, -1.40823778e-01, -3.34573315e-02,\n",
       "         -3.22610127e-03,  7.31403680e-02,  2.61786473e-01,  1.61333315e-02,\n",
       "         -2.17955681e-01, -9.12716365e-02,  5.26768602e-02, -2.22521918e-01,\n",
       "          4.92833149e-02,  8.31855110e-02,  7.08369528e-02,  9.37568160e-02,\n",
       "         -1.17049834e-01,  4.04546017e-02,  4.88767083e-02, -6.71801602e-04,\n",
       "          3.79082651e-03,  9.91884680e-02,  7.24663994e-02,  4.96834254e-03,\n",
       "          1.94151519e-02, -1.24073796e-01, -1.41651442e-02,  1.55910878e-01,\n",
       "          9.59597790e-04,  7.00026779e-02, -4.58836343e-02, -1.32557276e-02,\n",
       "          1.06047293e-01,  5.16121309e-02,  3.55140497e-02,  2.23059232e-01,\n",
       "         -6.81835083e-02, -1.39609138e-01,  3.26198718e-02,  7.13760409e-03,\n",
       "         -1.45454593e+00,  6.69597624e-02,  5.90159061e-02, -9.24139724e-02,\n",
       "         -2.66814301e-01, -6.42674188e-02, -6.31554044e-02, -2.43703829e-02,\n",
       "         -4.53091674e-02, -4.35347238e-02, -6.61838713e-02,  7.57656672e-02,\n",
       "         -7.44117041e-02,  1.36020608e-01, -1.11387616e-02, -1.22996730e-01,\n",
       "         -9.79199945e-02, -8.82306669e-02,  5.66971630e-02,  1.73374645e-01,\n",
       "         -1.75763878e-03, -2.19103287e-02, -9.94927878e-02, -7.62926497e-02]))]"
      ]
     },
     "execution_count": 131,
     "metadata": {},
     "output_type": "execute_result"
    }
   ],
   "source": [
    "article_info"
   ]
  },
  {
   "cell_type": "code",
   "execution_count": null,
   "metadata": {},
   "outputs": [],
   "source": []
  }
 ],
 "metadata": {
  "kernelspec": {
   "display_name": "Python 3.9.7 ('base')",
   "language": "python",
   "name": "python3"
  },
  "language_info": {
   "codemirror_mode": {
    "name": "ipython",
    "version": 3
   },
   "file_extension": ".py",
   "mimetype": "text/x-python",
   "name": "python",
   "nbconvert_exporter": "python",
   "pygments_lexer": "ipython3",
   "version": "3.9.7"
  },
  "orig_nbformat": 4,
  "vscode": {
   "interpreter": {
    "hash": "40d3a090f54c6569ab1632332b64b2c03c39dcf918b08424e98f38b5ae0af88f"
   }
  }
 },
 "nbformat": 4,
 "nbformat_minor": 2
}
